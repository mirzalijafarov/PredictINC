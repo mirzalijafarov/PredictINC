{
 "cells": [
  {
   "cell_type": "code",
   "execution_count": 1,
   "metadata": {},
   "outputs": [],
   "source": [
    "import pandas as pd\n",
    "import numpy as np\n",
    "import matplotlib.pyplot as plt\n",
    "import seaborn as sns\n",
    "from mpl_toolkits.mplot3d import Axes3D\n",
    "from termcolor import colored\n",
    "import math  \n",
    "from sklearn.linear_model import LinearRegression\n",
    "from sklearn.preprocessing import PolynomialFeatures\n",
    "%matplotlib inline"
   ]
  },
  {
   "cell_type": "code",
   "execution_count": 2,
   "metadata": {},
   "outputs": [
    {
     "data": {
      "text/html": [
       "<div>\n",
       "<style scoped>\n",
       "    .dataframe tbody tr th:only-of-type {\n",
       "        vertical-align: middle;\n",
       "    }\n",
       "\n",
       "    .dataframe tbody tr th {\n",
       "        vertical-align: top;\n",
       "    }\n",
       "\n",
       "    .dataframe thead th {\n",
       "        text-align: right;\n",
       "    }\n",
       "</style>\n",
       "<table border=\"1\" class=\"dataframe\">\n",
       "  <thead>\n",
       "    <tr style=\"text-align: right;\">\n",
       "      <th></th>\n",
       "      <th>Station</th>\n",
       "      <th>Dip</th>\n",
       "      <th>Azimuth</th>\n",
       "      <th>GHS</th>\n",
       "      <th>GTF</th>\n",
       "      <th>DLS</th>\n",
       "      <th>Easting</th>\n",
       "      <th>Northing</th>\n",
       "      <th>Elevation</th>\n",
       "      <th>UpDown</th>\n",
       "      <th>...</th>\n",
       "      <th>Roll to station</th>\n",
       "      <th>Roll to station (rev)</th>\n",
       "      <th>Time to station</th>\n",
       "      <th>Temperature</th>\n",
       "      <th>Battery</th>\n",
       "      <th>Station acc.</th>\n",
       "      <th>Station rate</th>\n",
       "      <th>Station Quality</th>\n",
       "      <th>Max. rate</th>\n",
       "      <th>Motion Quality</th>\n",
       "    </tr>\n",
       "  </thead>\n",
       "  <tbody>\n",
       "    <tr>\n",
       "      <td>0</td>\n",
       "      <td>0</td>\n",
       "      <td>-72.4043</td>\n",
       "      <td>90.0000</td>\n",
       "      <td>91.4285</td>\n",
       "      <td>91.4285</td>\n",
       "      <td>0.0000</td>\n",
       "      <td>620852.8820</td>\n",
       "      <td>4631519.595</td>\n",
       "      <td>1359.5580</td>\n",
       "      <td>0.0000</td>\n",
       "      <td>...</td>\n",
       "      <td>-10.4439</td>\n",
       "      <td>-0.0290</td>\n",
       "      <td>28.0166</td>\n",
       "      <td>14.2615</td>\n",
       "      <td>7.7960</td>\n",
       "      <td>0.0020</td>\n",
       "      <td>0.0005</td>\n",
       "      <td>100</td>\n",
       "      <td>0.6257</td>\n",
       "      <td>100.0000</td>\n",
       "    </tr>\n",
       "    <tr>\n",
       "      <td>1</td>\n",
       "      <td>3</td>\n",
       "      <td>-72.0146</td>\n",
       "      <td>89.9921</td>\n",
       "      <td>101.8784</td>\n",
       "      <td>101.8724</td>\n",
       "      <td>3.8974</td>\n",
       "      <td>620853.7986</td>\n",
       "      <td>4631519.595</td>\n",
       "      <td>1356.7015</td>\n",
       "      <td>0.0102</td>\n",
       "      <td>...</td>\n",
       "      <td>26.4207</td>\n",
       "      <td>0.0734</td>\n",
       "      <td>28.1887</td>\n",
       "      <td>14.2145</td>\n",
       "      <td>7.7996</td>\n",
       "      <td>0.0012</td>\n",
       "      <td>0.0010</td>\n",
       "      <td>100</td>\n",
       "      <td>0.4222</td>\n",
       "      <td>99.9425</td>\n",
       "    </tr>\n",
       "    <tr>\n",
       "      <td>2</td>\n",
       "      <td>6</td>\n",
       "      <td>-71.6686</td>\n",
       "      <td>90.8500</td>\n",
       "      <td>74.7977</td>\n",
       "      <td>75.4517</td>\n",
       "      <td>4.3724</td>\n",
       "      <td>620854.7335</td>\n",
       "      <td>4631519.588</td>\n",
       "      <td>1353.8509</td>\n",
       "      <td>0.0396</td>\n",
       "      <td>...</td>\n",
       "      <td>2.7055</td>\n",
       "      <td>0.0075</td>\n",
       "      <td>28.1395</td>\n",
       "      <td>14.1697</td>\n",
       "      <td>7.8019</td>\n",
       "      <td>0.0010</td>\n",
       "      <td>0.0004</td>\n",
       "      <td>100</td>\n",
       "      <td>0.2062</td>\n",
       "      <td>100.0000</td>\n",
       "    </tr>\n",
       "    <tr>\n",
       "      <td>3</td>\n",
       "      <td>9</td>\n",
       "      <td>-71.2351</td>\n",
       "      <td>91.8174</td>\n",
       "      <td>71.1548</td>\n",
       "      <td>72.7462</td>\n",
       "      <td>5.3164</td>\n",
       "      <td>620855.6875</td>\n",
       "      <td>4631519.566</td>\n",
       "      <td>1351.0067</td>\n",
       "      <td>0.0894</td>\n",
       "      <td>...</td>\n",
       "      <td>-3.5105</td>\n",
       "      <td>-0.0098</td>\n",
       "      <td>28.4426</td>\n",
       "      <td>14.1250</td>\n",
       "      <td>7.8031</td>\n",
       "      <td>0.0010</td>\n",
       "      <td>0.0009</td>\n",
       "      <td>100</td>\n",
       "      <td>0.1495</td>\n",
       "      <td>100.0000</td>\n",
       "    </tr>\n",
       "    <tr>\n",
       "      <td>4</td>\n",
       "      <td>12</td>\n",
       "      <td>-70.9930</td>\n",
       "      <td>93.0357</td>\n",
       "      <td>73.6145</td>\n",
       "      <td>76.2567</td>\n",
       "      <td>4.6271</td>\n",
       "      <td>620856.6576</td>\n",
       "      <td>4631519.525</td>\n",
       "      <td>1348.1683</td>\n",
       "      <td>0.1565</td>\n",
       "      <td>...</td>\n",
       "      <td>0.5446</td>\n",
       "      <td>0.0015</td>\n",
       "      <td>28.0003</td>\n",
       "      <td>14.0805</td>\n",
       "      <td>7.8061</td>\n",
       "      <td>0.0010</td>\n",
       "      <td>0.0004</td>\n",
       "      <td>100</td>\n",
       "      <td>0.1916</td>\n",
       "      <td>100.0000</td>\n",
       "    </tr>\n",
       "  </tbody>\n",
       "</table>\n",
       "<p>5 rows × 26 columns</p>\n",
       "</div>"
      ],
      "text/plain": [
       "   Station      Dip  Azimuth       GHS       GTF     DLS      Easting  \\\n",
       "0        0 -72.4043  90.0000   91.4285   91.4285  0.0000  620852.8820   \n",
       "1        3 -72.0146  89.9921  101.8784  101.8724  3.8974  620853.7986   \n",
       "2        6 -71.6686  90.8500   74.7977   75.4517  4.3724  620854.7335   \n",
       "3        9 -71.2351  91.8174   71.1548   72.7462  5.3164  620855.6875   \n",
       "4       12 -70.9930  93.0357   73.6145   76.2567  4.6271  620856.6576   \n",
       "\n",
       "      Northing  Elevation  UpDown  ...  Roll to station  \\\n",
       "0  4631519.595  1359.5580  0.0000  ...         -10.4439   \n",
       "1  4631519.595  1356.7015  0.0102  ...          26.4207   \n",
       "2  4631519.588  1353.8509  0.0396  ...           2.7055   \n",
       "3  4631519.566  1351.0067  0.0894  ...          -3.5105   \n",
       "4  4631519.525  1348.1683  0.1565  ...           0.5446   \n",
       "\n",
       "   Roll to station (rev)  Time to station Temperature  Battery  Station acc.  \\\n",
       "0                -0.0290          28.0166     14.2615   7.7960        0.0020   \n",
       "1                 0.0734          28.1887     14.2145   7.7996        0.0012   \n",
       "2                 0.0075          28.1395     14.1697   7.8019        0.0010   \n",
       "3                -0.0098          28.4426     14.1250   7.8031        0.0010   \n",
       "4                 0.0015          28.0003     14.0805   7.8061        0.0010   \n",
       "\n",
       "   Station rate  Station Quality  Max. rate  Motion Quality  \n",
       "0        0.0005              100     0.6257        100.0000  \n",
       "1        0.0010              100     0.4222         99.9425  \n",
       "2        0.0004              100     0.2062        100.0000  \n",
       "3        0.0009              100     0.1495        100.0000  \n",
       "4        0.0004              100     0.1916        100.0000  \n",
       "\n",
       "[5 rows x 26 columns]"
      ]
     },
     "execution_count": 2,
     "metadata": {},
     "output_type": "execute_result"
    }
   ],
   "source": [
    "survey_path = r\"E:\\MOOCs\\My Projects\\PredictINC\\Datasets\\Train data-BH713-90.csv\"\n",
    "survey = pd.read_csv(survey_path, skiprows = [0, 2])\n",
    "#survey = survey.drop([\"Unnamed: 26\"], axis = 1)\n",
    "survey.head()"
   ]
  },
  {
   "cell_type": "code",
   "execution_count": 4,
   "metadata": {},
   "outputs": [],
   "source": [
    "#Collar Coordinates\n",
    "collar_easting = survey[\"Easting\"].iloc[0]\n",
    "collar_northing = survey[\"Northing\"].iloc[0]\n",
    "collar_elevation = survey[\"Elevation\"].iloc[0]\n",
    "\n",
    "#Collar Parameters\n",
    "collar_dip = -72\n",
    "collar_azimuth = 90"
   ]
  },
  {
   "cell_type": "code",
   "execution_count": 5,
   "metadata": {},
   "outputs": [],
   "source": [
    "# Calculating Target Coordinates\n",
    "target_easting = ((survey[\"Station\"]\n",
    "                   ) / 2 * ((np.sin(np.radians(collar_dip + 90)) * np.sin(np.radians(collar_azimuth))\n",
    "                            ) + (np.sin(np.radians(collar_dip + 90)) * np.sin(np.radians(collar_azimuth))))\n",
    "                  ) + collar_easting\n",
    "target_northing = ((survey[\"Station\"]\n",
    "                    ) / 2 * ((np.sin(np.radians(collar_dip + 90)) * np.cos(np.radians(collar_azimuth))\n",
    "                             ) + (np.sin(np.radians(collar_dip + 90)) * np.cos(np.radians(collar_azimuth))))\n",
    "                   ) + collar_northing\n",
    "\n",
    "target_elevation = (-1 * (survey[\"Station\"]\n",
    "                          ) / 2 * (np.cos(np.radians(collar_dip + 90)) + np.cos(np.radians(collar_dip + 90)))\n",
    "                    ) + collar_elevation"
   ]
  },
  {
   "cell_type": "code",
   "execution_count": 6,
   "metadata": {},
   "outputs": [],
   "source": [
    "#Actual Coordinates\n",
    "actual_easting = survey[\"Easting\"]\n",
    "actual_northing = survey[\"Northing\"]\n",
    "actual_elevation = survey[\"Elevation\"]"
   ]
  },
  {
   "cell_type": "code",
   "execution_count": 7,
   "metadata": {},
   "outputs": [],
   "source": [
    "# Target Differences\n",
    "targ_east_differ = abs(target_easting - actual_easting)\n",
    "targ_nort_differ = abs(target_northing - actual_northing)\n",
    "targ_elev_differ = abs(target_elevation - actual_elevation)"
   ]
  },
  {
   "cell_type": "code",
   "execution_count": 8,
   "metadata": {},
   "outputs": [],
   "source": [
    "tot_misc_to_targ = np.sqrt(targ_east_differ ** 2 + targ_nort_differ ** 2 + targ_elev_differ ** 2)"
   ]
  },
  {
   "cell_type": "code",
   "execution_count": 9,
   "metadata": {},
   "outputs": [],
   "source": [
    "survey[\"Deviation\"] = tot_misc_to_targ"
   ]
  },
  {
   "cell_type": "code",
   "execution_count": 10,
   "metadata": {},
   "outputs": [
    {
     "data": {
      "text/html": [
       "<div>\n",
       "<style scoped>\n",
       "    .dataframe tbody tr th:only-of-type {\n",
       "        vertical-align: middle;\n",
       "    }\n",
       "\n",
       "    .dataframe tbody tr th {\n",
       "        vertical-align: top;\n",
       "    }\n",
       "\n",
       "    .dataframe thead th {\n",
       "        text-align: right;\n",
       "    }\n",
       "</style>\n",
       "<table border=\"1\" class=\"dataframe\">\n",
       "  <thead>\n",
       "    <tr style=\"text-align: right;\">\n",
       "      <th></th>\n",
       "      <th>Station</th>\n",
       "      <th>Dip</th>\n",
       "      <th>Azimuth</th>\n",
       "      <th>GHS</th>\n",
       "      <th>GTF</th>\n",
       "      <th>DLS</th>\n",
       "      <th>Easting</th>\n",
       "      <th>Northing</th>\n",
       "      <th>Elevation</th>\n",
       "      <th>UpDown</th>\n",
       "      <th>...</th>\n",
       "      <th>Roll to station (rev)</th>\n",
       "      <th>Time to station</th>\n",
       "      <th>Temperature</th>\n",
       "      <th>Battery</th>\n",
       "      <th>Station acc.</th>\n",
       "      <th>Station rate</th>\n",
       "      <th>Station Quality</th>\n",
       "      <th>Max. rate</th>\n",
       "      <th>Motion Quality</th>\n",
       "      <th>Deviation</th>\n",
       "    </tr>\n",
       "  </thead>\n",
       "  <tbody>\n",
       "    <tr>\n",
       "      <td>0</td>\n",
       "      <td>0</td>\n",
       "      <td>-72.4043</td>\n",
       "      <td>90.0000</td>\n",
       "      <td>91.4285</td>\n",
       "      <td>91.4285</td>\n",
       "      <td>0.0000</td>\n",
       "      <td>620852.8820</td>\n",
       "      <td>4631519.595</td>\n",
       "      <td>1359.5580</td>\n",
       "      <td>0.0000</td>\n",
       "      <td>...</td>\n",
       "      <td>-0.0290</td>\n",
       "      <td>28.0166</td>\n",
       "      <td>14.2615</td>\n",
       "      <td>7.7960</td>\n",
       "      <td>0.0020</td>\n",
       "      <td>0.0005</td>\n",
       "      <td>100</td>\n",
       "      <td>0.6257</td>\n",
       "      <td>100.0000</td>\n",
       "      <td>0.000000</td>\n",
       "    </tr>\n",
       "    <tr>\n",
       "      <td>1</td>\n",
       "      <td>3</td>\n",
       "      <td>-72.0146</td>\n",
       "      <td>89.9921</td>\n",
       "      <td>101.8784</td>\n",
       "      <td>101.8724</td>\n",
       "      <td>3.8974</td>\n",
       "      <td>620853.7986</td>\n",
       "      <td>4631519.595</td>\n",
       "      <td>1356.7015</td>\n",
       "      <td>0.0102</td>\n",
       "      <td>...</td>\n",
       "      <td>0.0734</td>\n",
       "      <td>28.1887</td>\n",
       "      <td>14.2145</td>\n",
       "      <td>7.7996</td>\n",
       "      <td>0.0012</td>\n",
       "      <td>0.0010</td>\n",
       "      <td>100</td>\n",
       "      <td>0.4222</td>\n",
       "      <td>99.9425</td>\n",
       "      <td>0.010969</td>\n",
       "    </tr>\n",
       "    <tr>\n",
       "      <td>2</td>\n",
       "      <td>6</td>\n",
       "      <td>-71.6686</td>\n",
       "      <td>90.8500</td>\n",
       "      <td>74.7977</td>\n",
       "      <td>75.4517</td>\n",
       "      <td>4.3724</td>\n",
       "      <td>620854.7335</td>\n",
       "      <td>4631519.588</td>\n",
       "      <td>1353.8509</td>\n",
       "      <td>0.0396</td>\n",
       "      <td>...</td>\n",
       "      <td>0.0075</td>\n",
       "      <td>28.1395</td>\n",
       "      <td>14.1697</td>\n",
       "      <td>7.8019</td>\n",
       "      <td>0.0010</td>\n",
       "      <td>0.0004</td>\n",
       "      <td>100</td>\n",
       "      <td>0.2062</td>\n",
       "      <td>100.0000</td>\n",
       "      <td>0.007507</td>\n",
       "    </tr>\n",
       "    <tr>\n",
       "      <td>3</td>\n",
       "      <td>9</td>\n",
       "      <td>-71.2351</td>\n",
       "      <td>91.8174</td>\n",
       "      <td>71.1548</td>\n",
       "      <td>72.7462</td>\n",
       "      <td>5.3164</td>\n",
       "      <td>620855.6875</td>\n",
       "      <td>4631519.566</td>\n",
       "      <td>1351.0067</td>\n",
       "      <td>0.0894</td>\n",
       "      <td>...</td>\n",
       "      <td>-0.0098</td>\n",
       "      <td>28.4426</td>\n",
       "      <td>14.1250</td>\n",
       "      <td>7.8031</td>\n",
       "      <td>0.0010</td>\n",
       "      <td>0.0009</td>\n",
       "      <td>100</td>\n",
       "      <td>0.1495</td>\n",
       "      <td>100.0000</td>\n",
       "      <td>0.038745</td>\n",
       "    </tr>\n",
       "    <tr>\n",
       "      <td>4</td>\n",
       "      <td>12</td>\n",
       "      <td>-70.9930</td>\n",
       "      <td>93.0357</td>\n",
       "      <td>73.6145</td>\n",
       "      <td>76.2567</td>\n",
       "      <td>4.6271</td>\n",
       "      <td>620856.6576</td>\n",
       "      <td>4631519.525</td>\n",
       "      <td>1348.1683</td>\n",
       "      <td>0.1565</td>\n",
       "      <td>...</td>\n",
       "      <td>0.0015</td>\n",
       "      <td>28.0003</td>\n",
       "      <td>14.0805</td>\n",
       "      <td>7.8061</td>\n",
       "      <td>0.0010</td>\n",
       "      <td>0.0004</td>\n",
       "      <td>100</td>\n",
       "      <td>0.1916</td>\n",
       "      <td>100.0000</td>\n",
       "      <td>0.099851</td>\n",
       "    </tr>\n",
       "  </tbody>\n",
       "</table>\n",
       "<p>5 rows × 27 columns</p>\n",
       "</div>"
      ],
      "text/plain": [
       "   Station      Dip  Azimuth       GHS       GTF     DLS      Easting  \\\n",
       "0        0 -72.4043  90.0000   91.4285   91.4285  0.0000  620852.8820   \n",
       "1        3 -72.0146  89.9921  101.8784  101.8724  3.8974  620853.7986   \n",
       "2        6 -71.6686  90.8500   74.7977   75.4517  4.3724  620854.7335   \n",
       "3        9 -71.2351  91.8174   71.1548   72.7462  5.3164  620855.6875   \n",
       "4       12 -70.9930  93.0357   73.6145   76.2567  4.6271  620856.6576   \n",
       "\n",
       "      Northing  Elevation  UpDown  ...  Roll to station (rev)  \\\n",
       "0  4631519.595  1359.5580  0.0000  ...                -0.0290   \n",
       "1  4631519.595  1356.7015  0.0102  ...                 0.0734   \n",
       "2  4631519.588  1353.8509  0.0396  ...                 0.0075   \n",
       "3  4631519.566  1351.0067  0.0894  ...                -0.0098   \n",
       "4  4631519.525  1348.1683  0.1565  ...                 0.0015   \n",
       "\n",
       "   Time to station  Temperature Battery  Station acc.  Station rate  \\\n",
       "0          28.0166      14.2615  7.7960        0.0020        0.0005   \n",
       "1          28.1887      14.2145  7.7996        0.0012        0.0010   \n",
       "2          28.1395      14.1697  7.8019        0.0010        0.0004   \n",
       "3          28.4426      14.1250  7.8031        0.0010        0.0009   \n",
       "4          28.0003      14.0805  7.8061        0.0010        0.0004   \n",
       "\n",
       "   Station Quality  Max. rate  Motion Quality  Deviation  \n",
       "0              100     0.6257        100.0000   0.000000  \n",
       "1              100     0.4222         99.9425   0.010969  \n",
       "2              100     0.2062        100.0000   0.007507  \n",
       "3              100     0.1495        100.0000   0.038745  \n",
       "4              100     0.1916        100.0000   0.099851  \n",
       "\n",
       "[5 rows x 27 columns]"
      ]
     },
     "execution_count": 10,
     "metadata": {},
     "output_type": "execute_result"
    }
   ],
   "source": [
    "survey.head()"
   ]
  },
  {
   "cell_type": "code",
   "execution_count": 11,
   "metadata": {},
   "outputs": [],
   "source": [
    "#survey.to_csv(\"survey3.csv\")"
   ]
  },
  {
   "cell_type": "code",
   "execution_count": 12,
   "metadata": {},
   "outputs": [],
   "source": [
    "#survey.columns"
   ]
  },
  {
   "cell_type": "code",
   "execution_count": 13,
   "metadata": {},
   "outputs": [],
   "source": [
    "#survey_features = [\"Dip\", \"Azimuth\", \"GHS\", \"GTF\", \"DLS\", \"Easting\", \"Northing\", \"Elevation\", \"UpDown\", \"LeftRight\"]"
   ]
  },
  {
   "cell_type": "code",
   "execution_count": 14,
   "metadata": {},
   "outputs": [],
   "source": [
    "X = survey.Station.values.reshape((-1,1))"
   ]
  },
  {
   "cell_type": "code",
   "execution_count": 15,
   "metadata": {},
   "outputs": [
    {
     "data": {
      "text/plain": [
       "array([[ 0],\n",
       "       [ 3],\n",
       "       [ 6],\n",
       "       [ 9],\n",
       "       [12],\n",
       "       [15],\n",
       "       [18],\n",
       "       [21],\n",
       "       [24],\n",
       "       [27],\n",
       "       [30],\n",
       "       [33],\n",
       "       [36],\n",
       "       [39],\n",
       "       [42],\n",
       "       [45],\n",
       "       [48],\n",
       "       [51]], dtype=int64)"
      ]
     },
     "execution_count": 15,
     "metadata": {},
     "output_type": "execute_result"
    }
   ],
   "source": [
    "X"
   ]
  },
  {
   "cell_type": "code",
   "execution_count": 16,
   "metadata": {},
   "outputs": [],
   "source": [
    "y = survey[\"Deviation\"].values"
   ]
  },
  {
   "cell_type": "code",
   "execution_count": 17,
   "metadata": {},
   "outputs": [
    {
     "data": {
      "text/plain": [
       "array([0.        , 0.01096882, 0.00750661, 0.03874482, 0.09985103,\n",
       "       0.18750737, 0.29893696, 0.41999365, 0.53712492, 0.64637259,\n",
       "       0.75205561, 0.85864579, 0.97081751, 1.08767557, 1.21010953,\n",
       "       1.33213289, 1.4505472 , 1.56076357])"
      ]
     },
     "execution_count": 17,
     "metadata": {},
     "output_type": "execute_result"
    }
   ],
   "source": [
    "y"
   ]
  },
  {
   "cell_type": "code",
   "execution_count": 18,
   "metadata": {},
   "outputs": [
    {
     "data": {
      "text/plain": [
       "<matplotlib.collections.PathCollection at 0x26ab690ddc8>"
      ]
     },
     "execution_count": 18,
     "metadata": {},
     "output_type": "execute_result"
    },
    {
     "data": {
      "image/png": "[encoded data removed]",
      "text/plain": [
       "<Figure size 432x432 with 1 Axes>"
      ]
     },
     "metadata": {
      "needs_background": "light"
     },
     "output_type": "display_data"
    }
   ],
   "source": [
    "fig = plt.figure(figsize=(6, 6))\n",
    "ax = fig.add_subplot()\n",
    "ax.scatter(survey[\"Station\"], survey[\"Deviation\"],\n",
    "             marker = \"o\",\n",
    "             s = 10,\n",
    "             color = \"green\",\n",
    "             alpha = 0.5,\n",
    "             label = \"Planned\")"
   ]
  },
  {
   "cell_type": "code",
   "execution_count": 65,
   "metadata": {},
   "outputs": [],
   "source": [
    "g=150.2\n",
    "predict = np.array([g]).reshape(-1,1)"
   ]
  },
  {
   "cell_type": "code",
   "execution_count": 66,
   "metadata": {},
   "outputs": [
    {
     "data": {
      "text/plain": [
       "array([[150.2]])"
      ]
     },
     "execution_count": 66,
     "metadata": {},
     "output_type": "execute_result"
    }
   ],
   "source": [
    "predict"
   ]
  },
  {
   "cell_type": "code",
   "execution_count": 67,
   "metadata": {},
   "outputs": [
    {
     "data": {
      "text/plain": [
       "LinearRegression(copy_X=True, fit_intercept=True, n_jobs=None, normalize=False)"
      ]
     },
     "execution_count": 67,
     "metadata": {},
     "output_type": "execute_result"
    }
   ],
   "source": [
    "regressor = LinearRegression()\n",
    "regressor.fit(X, y)"
   ]
  },
  {
   "cell_type": "code",
   "execution_count": 68,
   "metadata": {},
   "outputs": [
    {
     "data": {
      "text/plain": [
       "0.9773018345382143"
      ]
     },
     "execution_count": 68,
     "metadata": {},
     "output_type": "execute_result"
    }
   ],
   "source": [
    "r_sq = regressor.score(X, y)\n",
    "r_sq"
   ]
  },
  {
   "cell_type": "code",
   "execution_count": 69,
   "metadata": {},
   "outputs": [],
   "source": [
    "y_pred = regressor.predict(predict)"
   ]
  },
  {
   "cell_type": "code",
   "execution_count": 75,
   "metadata": {},
   "outputs": [
    {
     "data": {
      "text/plain": [
       "4.777119002429248"
      ]
     },
     "execution_count": 75,
     "metadata": {},
     "output_type": "execute_result"
    }
   ],
   "source": [
    "y_pred[0]"
   ]
  },
  {
   "cell_type": "code",
   "execution_count": 73,
   "metadata": {},
   "outputs": [
    {
     "ename": "TypeError",
     "evalue": "type numpy.ndarray doesn't define __round__ method",
     "output_type": "error",
     "traceback": [
      "\u001b[1;31m---------------------------------------------------------------------------\u001b[0m",
      "\u001b[1;31mTypeError\u001b[0m                                 Traceback (most recent call last)",
      "\u001b[1;32m<ipython-input-73-e1bd294e3c2c>\u001b[0m in \u001b[0;36m<module>\u001b[1;34m\u001b[0m\n\u001b[1;32m----> 1\u001b[1;33m \u001b[0mstr\u001b[0m\u001b[1;33m(\u001b[0m\u001b[0mround\u001b[0m\u001b[1;33m(\u001b[0m\u001b[0my_pred\u001b[0m\u001b[1;33m,\u001b[0m\u001b[1;36m2\u001b[0m\u001b[1;33m)\u001b[0m\u001b[1;33m)\u001b[0m\u001b[1;33m\u001b[0m\u001b[1;33m\u001b[0m\u001b[0m\n\u001b[0m",
      "\u001b[1;31mTypeError\u001b[0m: type numpy.ndarray doesn't define __round__ method"
     ]
    }
   ],
   "source": []
  },
  {
   "cell_type": "code",
   "execution_count": 24,
   "metadata": {},
   "outputs": [
    {
     "data": {
      "text/plain": [
       "[<matplotlib.lines.Line2D at 0x26ab69af608>]"
      ]
     },
     "execution_count": 24,
     "metadata": {},
     "output_type": "execute_result"
    },
    {
     "data": {
      "image/png": "[encoded data removed]",
      "text/plain": [
       "<Figure size 432x288 with 1 Axes>"
      ]
     },
     "metadata": {
      "needs_background": "light"
     },
     "output_type": "display_data"
    }
   ],
   "source": [
    "plt.scatter(X,y, color = 'red')\n",
    "plt.plot(X,regressor.predict(X) , color='blue')"
   ]
  },
  {
   "cell_type": "markdown",
   "metadata": {},
   "source": [
    "## Polynomial Regression"
   ]
  },
  {
   "cell_type": "code",
   "execution_count": 25,
   "metadata": {},
   "outputs": [],
   "source": [
    "transformer = PolynomialFeatures(degree=2, include_bias=False)"
   ]
  },
  {
   "cell_type": "code",
   "execution_count": 26,
   "metadata": {},
   "outputs": [
    {
     "data": {
      "text/plain": [
       "PolynomialFeatures(degree=2, include_bias=False, interaction_only=False,\n",
       "                   order='C')"
      ]
     },
     "execution_count": 26,
     "metadata": {},
     "output_type": "execute_result"
    }
   ],
   "source": [
    "transformer.fit(X)"
   ]
  },
  {
   "cell_type": "code",
   "execution_count": 27,
   "metadata": {},
   "outputs": [],
   "source": [
    "X_ = transformer.transform(X)"
   ]
  },
  {
   "cell_type": "code",
   "execution_count": 28,
   "metadata": {},
   "outputs": [
    {
     "data": {
      "text/plain": [
       "array([[   0.,    0.],\n",
       "       [   3.,    9.],\n",
       "       [   6.,   36.],\n",
       "       [   9.,   81.],\n",
       "       [  12.,  144.],\n",
       "       [  15.,  225.],\n",
       "       [  18.,  324.],\n",
       "       [  21.,  441.],\n",
       "       [  24.,  576.],\n",
       "       [  27.,  729.],\n",
       "       [  30.,  900.],\n",
       "       [  33., 1089.],\n",
       "       [  36., 1296.],\n",
       "       [  39., 1521.],\n",
       "       [  42., 1764.],\n",
       "       [  45., 2025.],\n",
       "       [  48., 2304.],\n",
       "       [  51., 2601.]])"
      ]
     },
     "execution_count": 28,
     "metadata": {},
     "output_type": "execute_result"
    }
   ],
   "source": [
    "X_"
   ]
  },
  {
   "cell_type": "code",
   "execution_count": 29,
   "metadata": {},
   "outputs": [],
   "source": [
    "poly_model = LinearRegression().fit(X_, y)"
   ]
  },
  {
   "cell_type": "code",
   "execution_count": 30,
   "metadata": {},
   "outputs": [],
   "source": [
    "poly_r_sq = poly_model.score(X_, y)"
   ]
  },
  {
   "cell_type": "code",
   "execution_count": 31,
   "metadata": {},
   "outputs": [
    {
     "data": {
      "text/plain": [
       "0.9938821623351559"
      ]
     },
     "execution_count": 31,
     "metadata": {},
     "output_type": "execute_result"
    }
   ],
   "source": [
    "poly_r_sq"
   ]
  },
  {
   "cell_type": "code",
   "execution_count": 32,
   "metadata": {},
   "outputs": [],
   "source": [
    "poly_predict = np.array([102, 102**2]).reshape(1,2)"
   ]
  },
  {
   "cell_type": "code",
   "execution_count": 33,
   "metadata": {},
   "outputs": [
    {
     "data": {
      "text/plain": [
       "array([[  102, 10404]])"
      ]
     },
     "execution_count": 33,
     "metadata": {},
     "output_type": "execute_result"
    }
   ],
   "source": [
    "poly_predict"
   ]
  },
  {
   "cell_type": "code",
   "execution_count": 34,
   "metadata": {},
   "outputs": [],
   "source": [
    "ploy_y_pred = poly_model.predict(poly_predict)"
   ]
  },
  {
   "cell_type": "code",
   "execution_count": 35,
   "metadata": {},
   "outputs": [
    {
     "data": {
      "text/plain": [
       "array([4.92765813])"
      ]
     },
     "execution_count": 35,
     "metadata": {},
     "output_type": "execute_result"
    }
   ],
   "source": [
    "ploy_y_pred"
   ]
  },
  {
   "cell_type": "code",
   "execution_count": 42,
   "metadata": {},
   "outputs": [
    {
     "data": {
      "text/plain": [
       "[<matplotlib.lines.Line2D at 0x26ab8d338c8>]"
      ]
     },
     "execution_count": 42,
     "metadata": {},
     "output_type": "execute_result"
    },
    {
     "data": {
      "image/png": "[encoded data removed]",
      "text/plain": [
       "<Figure size 432x288 with 1 Axes>"
      ]
     },
     "metadata": {
      "needs_background": "light"
     },
     "output_type": "display_data"
    }
   ],
   "source": [
    "plt.scatter(X,y, color = 'red')\n",
    "plt.plot(X_[:,0],poly_model.predict(X_))"
   ]
  },
  {
   "cell_type": "code",
   "execution_count": null,
   "metadata": {},
   "outputs": [],
   "source": []
  },
  {
   "cell_type": "code",
   "execution_count": null,
   "metadata": {},
   "outputs": [],
   "source": []
  },
  {
   "cell_type": "code",
   "execution_count": null,
   "metadata": {},
   "outputs": [],
   "source": []
  },
  {
   "cell_type": "code",
   "execution_count": null,
   "metadata": {},
   "outputs": [],
   "source": []
  },
  {
   "cell_type": "code",
   "execution_count": null,
   "metadata": {},
   "outputs": [],
   "source": []
  },
  {
   "cell_type": "code",
   "execution_count": null,
   "metadata": {},
   "outputs": [],
   "source": []
  },
  {
   "cell_type": "code",
   "execution_count": 42,
   "metadata": {},
   "outputs": [],
   "source": [
    "from sklearn.model_selection import train_test_split\n",
    "\n",
    "x_train, x_test, y_train, y_test = train_test_split(X,y , test_size = 0.2, random_state=0)"
   ]
  },
  {
   "cell_type": "code",
   "execution_count": 43,
   "metadata": {},
   "outputs": [],
   "source": [
    "x_train=x_train.reshape(-1,1)\n",
    "x_test=x_test.reshape(-1,1)\n",
    "#y_train=y_train.reshape(-1,1)\n",
    "#y_test=y_test.reshape(-1,1)"
   ]
  },
  {
   "cell_type": "code",
   "execution_count": 21,
   "metadata": {},
   "outputs": [],
   "source": []
  },
  {
   "cell_type": "code",
   "execution_count": 22,
   "metadata": {},
   "outputs": [
    {
     "data": {
      "text/plain": [
       "LinearRegression(copy_X=True, fit_intercept=True, n_jobs=None, normalize=False)"
      ]
     },
     "execution_count": 22,
     "metadata": {},
     "output_type": "execute_result"
    }
   ],
   "source": [
    "regressor = LinearRegression()\n",
    "regressor.fit(x_train,y_train)"
   ]
  },
  {
   "cell_type": "code",
   "execution_count": 23,
   "metadata": {},
   "outputs": [
    {
     "name": "stdout",
     "output_type": "stream",
     "text": [
      "[ 1.45975827 -1.01743359  4.92782687  3.04516106 -0.42290754  2.94607338\n",
      "  2.74789803  0.07253083  6.61231733  4.0360378   1.75702129  6.41414198\n",
      "  0.9643199   5.91870361  2.05428431  6.21596663  4.33330082]\n"
     ]
    }
   ],
   "source": [
    "y_pred = regressor.predict(x_test)\n",
    "print(y_pred)"
   ]
  },
  {
   "cell_type": "code",
   "execution_count": 276,
   "metadata": {},
   "outputs": [
    {
     "data": {
      "text/plain": [
       "[<matplotlib.lines.Line2D at 0x1c1ec4450c8>]"
      ]
     },
     "execution_count": 276,
     "metadata": {},
     "output_type": "execute_result"
    },
    {
     "data": {
      "image/png": "[encoded data removed]",
      "text/plain": [
       "<Figure size 432x288 with 1 Axes>"
      ]
     },
     "metadata": {
      "needs_background": "light"
     },
     "output_type": "display_data"
    }
   ],
   "source": []
  },
  {
   "cell_type": "code",
   "execution_count": null,
   "metadata": {},
   "outputs": [],
   "source": []
  },
  {
   "cell_type": "code",
   "execution_count": 277,
   "metadata": {},
   "outputs": [
    {
     "ename": "IndexError",
     "evalue": "single positional indexer is out-of-bounds",
     "output_type": "error",
     "traceback": [
      "\u001b[1;31m---------------------------------------------------------------------------\u001b[0m",
      "\u001b[1;31mIndexError\u001b[0m                                Traceback (most recent call last)",
      "\u001b[1;32m<ipython-input-277-95506ec3cf63>\u001b[0m in \u001b[0;36m<module>\u001b[1;34m\u001b[0m\n\u001b[1;32m----> 1\u001b[1;33m \u001b[0msurvey\u001b[0m\u001b[1;33m.\u001b[0m\u001b[0miloc\u001b[0m\u001b[1;33m[\u001b[0m\u001b[1;36m27\u001b[0m\u001b[1;33m]\u001b[0m\u001b[1;33m\u001b[0m\u001b[1;33m\u001b[0m\u001b[0m\n\u001b[0m",
      "\u001b[1;32m~\\AppData\\Local\\Continuum\\anaconda3\\lib\\site-packages\\pandas\\core\\indexing.py\u001b[0m in \u001b[0;36m__getitem__\u001b[1;34m(self, key)\u001b[0m\n\u001b[0;32m   1422\u001b[0m \u001b[1;33m\u001b[0m\u001b[0m\n\u001b[0;32m   1423\u001b[0m             \u001b[0mmaybe_callable\u001b[0m \u001b[1;33m=\u001b[0m \u001b[0mcom\u001b[0m\u001b[1;33m.\u001b[0m\u001b[0mapply_if_callable\u001b[0m\u001b[1;33m(\u001b[0m\u001b[0mkey\u001b[0m\u001b[1;33m,\u001b[0m \u001b[0mself\u001b[0m\u001b[1;33m.\u001b[0m\u001b[0mobj\u001b[0m\u001b[1;33m)\u001b[0m\u001b[1;33m\u001b[0m\u001b[1;33m\u001b[0m\u001b[0m\n\u001b[1;32m-> 1424\u001b[1;33m             \u001b[1;32mreturn\u001b[0m \u001b[0mself\u001b[0m\u001b[1;33m.\u001b[0m\u001b[0m_getitem_axis\u001b[0m\u001b[1;33m(\u001b[0m\u001b[0mmaybe_callable\u001b[0m\u001b[1;33m,\u001b[0m \u001b[0maxis\u001b[0m\u001b[1;33m=\u001b[0m\u001b[0maxis\u001b[0m\u001b[1;33m)\u001b[0m\u001b[1;33m\u001b[0m\u001b[1;33m\u001b[0m\u001b[0m\n\u001b[0m\u001b[0;32m   1425\u001b[0m \u001b[1;33m\u001b[0m\u001b[0m\n\u001b[0;32m   1426\u001b[0m     \u001b[1;32mdef\u001b[0m \u001b[0m_is_scalar_access\u001b[0m\u001b[1;33m(\u001b[0m\u001b[0mself\u001b[0m\u001b[1;33m,\u001b[0m \u001b[0mkey\u001b[0m\u001b[1;33m:\u001b[0m \u001b[0mTuple\u001b[0m\u001b[1;33m)\u001b[0m\u001b[1;33m:\u001b[0m\u001b[1;33m\u001b[0m\u001b[1;33m\u001b[0m\u001b[0m\n",
      "\u001b[1;32m~\\AppData\\Local\\Continuum\\anaconda3\\lib\\site-packages\\pandas\\core\\indexing.py\u001b[0m in \u001b[0;36m_getitem_axis\u001b[1;34m(self, key, axis)\u001b[0m\n\u001b[0;32m   2155\u001b[0m \u001b[1;33m\u001b[0m\u001b[0m\n\u001b[0;32m   2156\u001b[0m             \u001b[1;31m# validate the location\u001b[0m\u001b[1;33m\u001b[0m\u001b[1;33m\u001b[0m\u001b[1;33m\u001b[0m\u001b[0m\n\u001b[1;32m-> 2157\u001b[1;33m             \u001b[0mself\u001b[0m\u001b[1;33m.\u001b[0m\u001b[0m_validate_integer\u001b[0m\u001b[1;33m(\u001b[0m\u001b[0mkey\u001b[0m\u001b[1;33m,\u001b[0m \u001b[0maxis\u001b[0m\u001b[1;33m)\u001b[0m\u001b[1;33m\u001b[0m\u001b[1;33m\u001b[0m\u001b[0m\n\u001b[0m\u001b[0;32m   2158\u001b[0m \u001b[1;33m\u001b[0m\u001b[0m\n\u001b[0;32m   2159\u001b[0m             \u001b[1;32mreturn\u001b[0m \u001b[0mself\u001b[0m\u001b[1;33m.\u001b[0m\u001b[0m_get_loc\u001b[0m\u001b[1;33m(\u001b[0m\u001b[0mkey\u001b[0m\u001b[1;33m,\u001b[0m \u001b[0maxis\u001b[0m\u001b[1;33m=\u001b[0m\u001b[0maxis\u001b[0m\u001b[1;33m)\u001b[0m\u001b[1;33m\u001b[0m\u001b[1;33m\u001b[0m\u001b[0m\n",
      "\u001b[1;32m~\\AppData\\Local\\Continuum\\anaconda3\\lib\\site-packages\\pandas\\core\\indexing.py\u001b[0m in \u001b[0;36m_validate_integer\u001b[1;34m(self, key, axis)\u001b[0m\n\u001b[0;32m   2086\u001b[0m         \u001b[0mlen_axis\u001b[0m \u001b[1;33m=\u001b[0m \u001b[0mlen\u001b[0m\u001b[1;33m(\u001b[0m\u001b[0mself\u001b[0m\u001b[1;33m.\u001b[0m\u001b[0mobj\u001b[0m\u001b[1;33m.\u001b[0m\u001b[0m_get_axis\u001b[0m\u001b[1;33m(\u001b[0m\u001b[0maxis\u001b[0m\u001b[1;33m)\u001b[0m\u001b[1;33m)\u001b[0m\u001b[1;33m\u001b[0m\u001b[1;33m\u001b[0m\u001b[0m\n\u001b[0;32m   2087\u001b[0m         \u001b[1;32mif\u001b[0m \u001b[0mkey\u001b[0m \u001b[1;33m>=\u001b[0m \u001b[0mlen_axis\u001b[0m \u001b[1;32mor\u001b[0m \u001b[0mkey\u001b[0m \u001b[1;33m<\u001b[0m \u001b[1;33m-\u001b[0m\u001b[0mlen_axis\u001b[0m\u001b[1;33m:\u001b[0m\u001b[1;33m\u001b[0m\u001b[1;33m\u001b[0m\u001b[0m\n\u001b[1;32m-> 2088\u001b[1;33m             \u001b[1;32mraise\u001b[0m \u001b[0mIndexError\u001b[0m\u001b[1;33m(\u001b[0m\u001b[1;34m\"single positional indexer is out-of-bounds\"\u001b[0m\u001b[1;33m)\u001b[0m\u001b[1;33m\u001b[0m\u001b[1;33m\u001b[0m\u001b[0m\n\u001b[0m\u001b[0;32m   2089\u001b[0m \u001b[1;33m\u001b[0m\u001b[0m\n\u001b[0;32m   2090\u001b[0m     \u001b[1;32mdef\u001b[0m \u001b[0m_getitem_tuple\u001b[0m\u001b[1;33m(\u001b[0m\u001b[0mself\u001b[0m\u001b[1;33m,\u001b[0m \u001b[0mtup\u001b[0m\u001b[1;33m)\u001b[0m\u001b[1;33m:\u001b[0m\u001b[1;33m\u001b[0m\u001b[1;33m\u001b[0m\u001b[0m\n",
      "\u001b[1;31mIndexError\u001b[0m: single positional indexer is out-of-bounds"
     ]
    }
   ],
   "source": [
    "survey.iloc[27]"
   ]
  },
  {
   "cell_type": "code",
   "execution_count": null,
   "metadata": {},
   "outputs": [],
   "source": []
  },
  {
   "cell_type": "code",
   "execution_count": null,
   "metadata": {},
   "outputs": [],
   "source": []
  },
  {
   "cell_type": "code",
   "execution_count": null,
   "metadata": {},
   "outputs": [],
   "source": [
    "\n"
   ]
  },
  {
   "cell_type": "code",
   "execution_count": null,
   "metadata": {},
   "outputs": [],
   "source": []
  },
  {
   "cell_type": "code",
   "execution_count": null,
   "metadata": {},
   "outputs": [],
   "source": []
  },
  {
   "cell_type": "code",
   "execution_count": null,
   "metadata": {},
   "outputs": [],
   "source": []
  },
  {
   "cell_type": "code",
   "execution_count": null,
   "metadata": {},
   "outputs": [],
   "source": []
  }
 ],
 "metadata": {
  "kernelspec": {
   "display_name": "Python 3",
   "language": "python",
   "name": "python3"
  },
  "language_info": {
   "codemirror_mode": {
    "name": "ipython",
    "version": 3
   },
   "file_extension": ".py",
   "mimetype": "text/x-python",
   "name": "python",
   "nbconvert_exporter": "python",
   "pygments_lexer": "ipython3",
   "version": "3.7.4"
  }
 },
 "nbformat": 4,
 "nbformat_minor": 2
}
